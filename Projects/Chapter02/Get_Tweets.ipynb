{
  "nbformat": 4,
  "nbformat_minor": 0,
  "metadata": {
    "colab": {
      "provenance": [],
      "authorship_tag": "ABX9TyM2WXeXwd9hDwCe5Ss4F5PN",
      "include_colab_link": true
    },
    "kernelspec": {
      "name": "python3",
      "display_name": "Python 3"
    },
    "language_info": {
      "name": "python"
    }
  },
  "cells": [
    {
      "cell_type": "markdown",
      "metadata": {
        "id": "view-in-github",
        "colab_type": "text"
      },
      "source": [
        "<a href=\"https://colab.research.google.com/github/Akshaychikara/NLP/blob/main/Projects/Chapter02/Get_Tweets.ipynb\" target=\"_parent\"><img src=\"https://colab.research.google.com/assets/colab-badge.svg\" alt=\"Open In Colab\"/></a>"
      ]
    },
    {
      "cell_type": "code",
      "execution_count": 1,
      "metadata": {
        "id": "dFtzJmSZ0y4p"
      },
      "outputs": [],
      "source": [
        "import tweepy\n",
        "from tweepy import OAuthHandler\n",
        "import json\n",
        "import datetime as dt\n",
        "import time\n",
        "import os\n",
        "import sys"
      ]
    },
    {
      "cell_type": "code",
      "source": [
        "def load_api():\n",
        "    ''' Function that loads the twitter API after authorizing the user. '''\n",
        "\n",
        "    consumer_key = 'j1Cq5kwSmTjJECAIzhvdLHu5t'\n",
        "    consumer_secret = 'uOAgHtXIHyIK1xuYF8wJ4dueOAwzV2O8Uakw8qhLELhy33zE1t'\n",
        "    access_token = '1577871480-63hoYy36e6hwLpFfePFGq1lNELRodubaoWlim1C'\n",
        "    access_secret = 'BC1PjHPuNNA3SJIiGKqe4rTOImO42Oht8T6n4oeAt9hz6'\n",
        "    auth = OAuthHandler(consumer_key, consumer_secret)\n",
        "    auth.set_access_token(access_token, access_secret)\n",
        "    # load the twitter API via tweepy\n",
        "    return tweepy.API(auth)"
      ],
      "metadata": {
        "id": "LKeSavF60504"
      },
      "execution_count": 2,
      "outputs": []
    },
    {
      "cell_type": "code",
      "source": [
        "api = load_api()"
      ],
      "metadata": {
        "id": "n1TkFnwA07wN"
      },
      "execution_count": 3,
      "outputs": []
    },
    {
      "cell_type": "code",
      "source": [
        "api."
      ],
      "metadata": {
        "id": "1ajpsGBD1FIt"
      },
      "execution_count": null,
      "outputs": []
    }
  ]
}