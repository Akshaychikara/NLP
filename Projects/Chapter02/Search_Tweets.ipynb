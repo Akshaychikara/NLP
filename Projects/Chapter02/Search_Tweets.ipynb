import tweepy
from tweepy import OAuthHandler
import json
import datetime as dt
import time
import os
import sys


def load_api():
    ''' Function that loads the twitter API after authorizing the user. '''

    consumer_key = 'j1Cq5kwSmTjJECAIzhvdLHu5t'
    consumer_secret = 'uOAgHtXIHyIK1xuYF8wJ4dueOAwzV2O8Uakw8qhLELhy33zE1t'
    access_token = '1577871480-63hoYy36e6hwLpFfePFGq1lNELRodubaoWlim1C'
    access_secret = 'BC1PjHPuNNA3SJIiGKqe4rTOImO42Oht8T6n4oeAt9hz6'
    auth = OAuthHandler(consumer_key, consumer_secret)
    auth.set_access_token(access_token, access_secret)
    # load the twitter API via tweepy
    return tweepy.API(auth)
